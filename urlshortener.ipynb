{
 "cells": [
  {
   "cell_type": "code",
   "execution_count": 1,
   "metadata": {},
   "outputs": [
    {
     "name": "stdout",
     "output_type": "stream",
     "text": [
      "Collecting requests\n",
      "  Using cached requests-2.28.2-py3-none-any.whl (62 kB)\n",
      "Collecting charset-normalizer<4,>=2\n",
      "  Using cached charset_normalizer-3.1.0-cp311-cp311-win_amd64.whl (96 kB)\n",
      "Collecting idna<4,>=2.5\n",
      "  Using cached idna-3.4-py3-none-any.whl (61 kB)\n",
      "Collecting urllib3<1.27,>=1.21.1\n",
      "  Using cached urllib3-1.26.15-py2.py3-none-any.whl (140 kB)\n",
      "Collecting certifi>=2017.4.17\n",
      "  Using cached certifi-2022.12.7-py3-none-any.whl (155 kB)\n",
      "Installing collected packages: urllib3, idna, charset-normalizer, certifi, requests\n",
      "Successfully installed certifi-2022.12.7 charset-normalizer-3.1.0 idna-3.4 requests-2.28.2 urllib3-1.26.15\n"
     ]
    }
   ],
   "source": [
    "!pip install requests"
   ]
  },
  {
   "cell_type": "code",
   "execution_count": 4,
   "metadata": {},
   "outputs": [
    {
     "name": "stdout",
     "output_type": "stream",
     "text": [
      "{'url': {'status': 3}}\n"
     ]
    }
   ],
   "source": [
    "import requests \n",
    "def shorten_url(full_url,link_name):\n",
    "    API_KEY ='3ee0310bc59cad91884bd91f139c681b71b62'\n",
    "    BASE_URL ='https://cutt.ly/api/api.php'\n",
    "    \n",
    "    payload={'key':API_KEY,'short':full_url,'name':link_name}  \n",
    "    request=requests.get(BASE_URL,params=payload)\n",
    "    data=request.json()\n",
    "    \n",
    "    print('') \n",
    "    \n",
    "    try:\n",
    "        title=data['url']['title']\n",
    "        short_link=data['url']['shortLink'] \n",
    "        \n",
    "        print('Title:',title)\n",
    "        print('Short Link:',short_link) \n",
    "    except:\n",
    "        status=data['url']['status']\n",
    "        print('Error:',status)\n",
    "        \n",
    "link_name=input('Enter the link:  ')\n",
    "name=input('give a name to your link:  ')\n",
    "\n",
    "shorten_url(link_name,name)  "
   ]
  }
 ],
 "metadata": {
  "kernelspec": {
   "display_name": "Python 3",
   "language": "python",
   "name": "python3"
  },
  "language_info": {
   "codemirror_mode": {
    "name": "ipython",
    "version": 3
   },
   "file_extension": ".py",
   "mimetype": "text/x-python",
   "name": "python",
   "nbconvert_exporter": "python",
   "pygments_lexer": "ipython3",
   "version": "3.11.3"
  },
  "orig_nbformat": 4
 },
 "nbformat": 4,
 "nbformat_minor": 2
}
